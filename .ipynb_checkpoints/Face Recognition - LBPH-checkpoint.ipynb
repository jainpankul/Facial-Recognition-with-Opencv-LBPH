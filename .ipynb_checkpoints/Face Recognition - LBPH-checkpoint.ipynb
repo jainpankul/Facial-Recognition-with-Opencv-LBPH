{
 "cells": [
  {
   "cell_type": "code",
   "execution_count": 1,
   "metadata": {},
   "outputs": [],
   "source": [
    "import numpy as np\n",
    "import cv2\n",
    "import os"
   ]
  },
  {
   "cell_type": "markdown",
   "metadata": {},
   "source": [
    "* Prepare training data\n",
    "* Face detection\n",
    "* Training\n",
    "* Predict"
   ]
  },
  {
   "cell_type": "code",
   "execution_count": 2,
   "metadata": {},
   "outputs": [],
   "source": [
    "def face_detection(image):\n",
    "    image_gray = cv2.cvtColor(image, cv2.COLOR_BGR2GRAY)\n",
    "    haar_classifier = cv2.CascadeClassifier('opencv/data/haarcascades/haarcascade_frontalface_default.xml')\n",
    "    face = haar_classifier.detectMultiScale(image_gray, scaleFactor=1.3, minNeighbors=5)\n",
    "    x,y,w,h = face[0]\n",
    "    return image_gray[y:y+w, x:x+h], face[0]"
   ]
  },
  {
   "cell_type": "code",
   "execution_count": 3,
   "metadata": {},
   "outputs": [],
   "source": [
    "def prepare_data(data_path):\n",
    "    folders = os.listdir(data_path)\n",
    "    labels = []\n",
    "    faces = []\n",
    "    for folder in folders:\n",
    "        label = int(folder)\n",
    "        training_images_path = data_path + '/' + folder\n",
    "        for image in os.listdir(training_images_path):\n",
    "            image_path = training_images_path + '/' + image\n",
    "            training_image = cv2.imread(image_path)\n",
    "            face, bounding_box = face_detection(training_image)\n",
    "            #face = face_detection(training_image)\n",
    "            faces.append(face)\n",
    "            labels.append(label)        \n",
    "\n",
    "    print ('Training Done')\n",
    "    return faces, labels    "
   ]
  },
  {
   "cell_type": "code",
   "execution_count": 4,
   "metadata": {},
   "outputs": [
    {
     "name": "stdout",
     "output_type": "stream",
     "text": [
      "Training Done\n"
     ]
    }
   ],
   "source": [
    "faces, labels = prepare_data('training')"
   ]
  },
  {
   "cell_type": "code",
   "execution_count": 5,
   "metadata": {},
   "outputs": [
    {
     "name": "stdout",
     "output_type": "stream",
     "text": [
      "Total faces =  20\n",
      "Total labels =  20\n"
     ]
    }
   ],
   "source": [
    "print ('Total faces = ', len(faces))\n",
    "print ('Total labels = ', len(labels))"
   ]
  },
  {
   "cell_type": "markdown",
   "metadata": {},
   "source": [
    "### LBPH Recognizer"
   ]
  },
  {
   "cell_type": "code",
   "execution_count": 13,
   "metadata": {},
   "outputs": [
    {
     "ename": "TypeError",
     "evalue": "src is not a numerical tuple",
     "output_type": "error",
     "traceback": [
      "\u001b[1;31m---------------------------------------------------------------------------\u001b[0m",
      "\u001b[1;31mTypeError\u001b[0m                                 Traceback (most recent call last)",
      "\u001b[1;32m<ipython-input-13-13f70acc4ccf>\u001b[0m in \u001b[0;36m<module>\u001b[1;34m()\u001b[0m\n\u001b[0;32m      1\u001b[0m \u001b[0mmodel\u001b[0m \u001b[1;33m=\u001b[0m \u001b[0mcv2\u001b[0m\u001b[1;33m.\u001b[0m\u001b[0mface\u001b[0m\u001b[1;33m.\u001b[0m\u001b[0mcreateLBPHFaceRecognizer\u001b[0m\u001b[1;33m(\u001b[0m\u001b[1;33m)\u001b[0m\u001b[1;33m\u001b[0m\u001b[0m\n\u001b[0;32m      2\u001b[0m \u001b[1;33m\u001b[0m\u001b[0m\n\u001b[1;32m----> 3\u001b[1;33m \u001b[0mmodel\u001b[0m\u001b[1;33m.\u001b[0m\u001b[0mtrain\u001b[0m\u001b[1;33m(\u001b[0m\u001b[0mfaces\u001b[0m\u001b[1;33m,\u001b[0m \u001b[0mlabels\u001b[0m\u001b[1;33m)\u001b[0m\u001b[1;33m\u001b[0m\u001b[0m\n\u001b[0m",
      "\u001b[1;31mTypeError\u001b[0m: src is not a numerical tuple"
     ]
    }
   ],
   "source": [
    "model = cv2.face.createLBPHFaceRecognizer()\n",
    "\n",
    "model.train(faces, labels)"
   ]
  },
  {
   "cell_type": "code",
   "execution_count": 81,
   "metadata": {},
   "outputs": [],
   "source": [
    "def bounding_box_text(image, box, name):\n",
    "    (x,y,w,h) = box\n",
    "    cv2.rectangle(image, (x,y), (x+w, y+h), (0,255,0), 2)\n",
    "    cv2.text(image, name, (x,y), cv2.FONT_HERSHEY_PLAIN, 1.5, (0, 255, 0), 2)"
   ]
  },
  {
   "cell_type": "code",
   "execution_count": 118,
   "metadata": {},
   "outputs": [
    {
     "data": {
      "text/plain": [
       "[(array([[133, 128, 137, ...,  16,  16,  17],\n",
       "         [127, 120, 132, ...,  16,  15,  18],\n",
       "         [ 83, 113, 119, ...,  19,  18,  17],\n",
       "         ...,\n",
       "         [ 28,  30,  29, ...,  31,  31,  29],\n",
       "         [ 30,  30,  33, ...,  27,  29,  27],\n",
       "         [ 28,  34,  33, ...,  28,  28,  27]], dtype=uint8),\n",
       "  array([469, 216, 501, 501], dtype=int32)),\n",
       " (array([[60, 60, 60, ..., 69, 69, 69],\n",
       "         [60, 60, 61, ..., 69, 69, 69],\n",
       "         [60, 60, 61, ..., 69, 69, 69],\n",
       "         ...,\n",
       "         [64, 64, 65, ..., 63, 62, 62],\n",
       "         [64, 64, 63, ..., 62, 61, 61],\n",
       "         [64, 64, 62, ..., 61, 60, 61]], dtype=uint8),\n",
       "  array([206,  29, 182, 182], dtype=int32)),\n",
       " (array([[255, 255, 255, ..., 254, 254, 255],\n",
       "         [255, 255, 255, ..., 253, 253, 254],\n",
       "         [255, 255, 255, ..., 253, 253, 254],\n",
       "         ...,\n",
       "         [254, 254, 254, ...,   6,   2,   1],\n",
       "         [254, 254, 254, ...,   9,   4,   1],\n",
       "         [254, 254, 254, ...,   2,   1,   2]], dtype=uint8),\n",
       "  array([ 17,  39, 122, 122], dtype=int32)),\n",
       " (array([[ 98,  99,  99, ..., 236, 236, 235],\n",
       "         [ 97,  98,  99, ..., 237, 236, 235],\n",
       "         [ 97,  97,  98, ..., 237, 235, 232],\n",
       "         ...,\n",
       "         [ 97,  96,  96, ..., 101, 101, 101],\n",
       "         [ 96,  94,  92, ..., 102, 102, 101],\n",
       "         [ 94,  91,  91, ..., 102, 103, 101]], dtype=uint8),\n",
       "  array([374,  37, 319, 319], dtype=int32)),\n",
       " (array([[124, 124, 126, ..., 142, 142, 142],\n",
       "         [124, 125, 128, ..., 142, 142, 142],\n",
       "         [124, 125, 128, ..., 142, 142, 142],\n",
       "         ...,\n",
       "         [ 43,  42,  41, ...,  42,  40,  38],\n",
       "         [ 43,  41,  41, ...,  44,  41,  38],\n",
       "         [ 43,  40,  40, ...,  44,  41,  37]], dtype=uint8),\n",
       "  array([490,  97, 558, 558], dtype=int32)),\n",
       " (array([[190, 190, 190, ..., 193, 193, 193],\n",
       "         [190, 190, 190, ..., 193, 193, 193],\n",
       "         [190, 190, 190, ..., 193, 193, 193],\n",
       "         ...,\n",
       "         [193, 193, 193, ..., 209, 209, 209],\n",
       "         [193, 193, 193, ..., 209, 209, 209],\n",
       "         [193, 193, 193, ..., 209, 209, 209]], dtype=uint8),\n",
       "  array([678, 536, 919, 919], dtype=int32)),\n",
       " (array([[186,  77,  70, ..., 205, 205, 205],\n",
       "         [102,  43,  59, ..., 205, 205, 205],\n",
       "         [ 60,  63,  66, ..., 205, 201, 206],\n",
       "         ...,\n",
       "         [ 99,  98, 103, ..., 215, 215, 215],\n",
       "         [ 98,  92, 107, ..., 215, 215, 215],\n",
       "         [ 94, 109,  95, ..., 215, 215, 215]], dtype=uint8),\n",
       "  array([58, 38, 52, 52], dtype=int32)),\n",
       " (array([[127, 126, 125, ..., 209, 205, 198],\n",
       "         [109, 106, 103, ..., 212, 207, 199],\n",
       "         [102, 100,  98, ..., 216, 210, 203],\n",
       "         ...,\n",
       "         [ 99,  98,  98, ...,  89,  88,  88],\n",
       "         [100,  99,  99, ...,  88,  86,  84],\n",
       "         [102, 101, 100, ...,  87,  84,  85]], dtype=uint8),\n",
       "  array([277,  63, 250, 250], dtype=int32)),\n",
       " (array([[127, 126, 126, ...,  90,  89,  88],\n",
       "         [126, 126, 126, ...,  88,  88,  87],\n",
       "         [127, 127, 127, ...,  86,  85,  85],\n",
       "         ...,\n",
       "         [ 28,  27,  27, ...,  46,  46,  46],\n",
       "         [ 28,  27,  26, ...,  46,  46,  46],\n",
       "         [ 29,  28,  27, ...,  46,  46,  46]], dtype=uint8),\n",
       "  array([308,  70, 319, 319], dtype=int32)),\n",
       " (array([[ 86, 102,  97, ...,  39,  38,  38],\n",
       "         [ 65,  65,  80, ...,  37,  37,  37],\n",
       "         [ 26,  26,  29, ...,  37,  37,  37],\n",
       "         ...,\n",
       "         [ 44,  42,  40, ...,  68,  66,  65],\n",
       "         [ 44,  42,  39, ...,  68,  66,  65],\n",
       "         [ 47,  48,  45, ...,  68,  66,  65]], dtype=uint8),\n",
       "  array([539, 119, 498, 498], dtype=int32)),\n",
       " (array([[119, 117, 109, ...,  23,  23,  22],\n",
       "         [110, 108, 104, ...,  23,  23,  22],\n",
       "         [106, 104, 105, ...,  23,  23,  22],\n",
       "         ...,\n",
       "         [ 22,  17,  12, ...,  24,  24,  24],\n",
       "         [ 21,  18,  14, ...,  24,  24,  24],\n",
       "         [ 27,  23,  18, ...,  24,  24,  24]], dtype=uint8),\n",
       "  array([192,  56, 147, 147], dtype=int32)),\n",
       " (array([[217, 215, 208, ..., 147, 146, 146],\n",
       "         [218, 213, 203, ..., 147, 146, 146],\n",
       "         [205, 206, 215, ..., 146, 146, 145],\n",
       "         ...,\n",
       "         [ 68,  71,  73, ...,  20,   8,   3],\n",
       "         [ 71,  74,  76, ...,  81,  49,  32],\n",
       "         [ 73,  76,  78, ..., 134, 107,  80]], dtype=uint8),\n",
       "  array([253,  67, 165, 165], dtype=int32)),\n",
       " (array([[ 12,   8,   8, ...,  72,  63,  67],\n",
       "         [ 15,  13,  15, ...,  79,  70,  69],\n",
       "         [ 12,  13,  15, ...,  78,  74,  66],\n",
       "         ...,\n",
       "         [192, 190, 189, ...,  96, 105, 106],\n",
       "         [181, 184, 186, ...,  99, 101, 101],\n",
       "         [185, 188, 191, ..., 100,  95, 102]], dtype=uint8),\n",
       "  array([570, 531, 925, 925], dtype=int32)),\n",
       " (array([[22, 15, 10, ..., 20, 20, 20],\n",
       "         [29, 21, 34, ..., 20, 20, 20],\n",
       "         [35, 37, 71, ..., 20, 20, 20],\n",
       "         ...,\n",
       "         [34, 40, 41, ..., 21, 21, 21],\n",
       "         [37, 35, 36, ..., 21, 21, 21],\n",
       "         [72, 64, 54, ..., 21, 21, 21]], dtype=uint8),\n",
       "  array([ 59,  29, 132, 132], dtype=int32)),\n",
       " (array([[ 12,  12,  12, ..., 140, 136, 106],\n",
       "         [ 12,  12,  12, ..., 127, 142, 120],\n",
       "         [ 12,  12,  12, ..., 113, 134, 133],\n",
       "         ...,\n",
       "         [  8,   8,   9, ...,  95,  87,  80],\n",
       "         [  8,   8,   9, ...,  94,  88,  81],\n",
       "         [  8,   8,   9, ...,  92,  89,  83]], dtype=uint8),\n",
       "  array([ 41,  66, 155, 155], dtype=int32)),\n",
       " (array([[  0,   1,   4, ..., 210, 215, 219],\n",
       "         [  7,   4,   7, ..., 214, 216, 215],\n",
       "         [ 12,  28,  52, ..., 197, 209, 213],\n",
       "         ...,\n",
       "         [  0,   0,   0, ...,  23,  26,  32],\n",
       "         [  0,   0,   0, ...,  14,  19,  28],\n",
       "         [  0,   0,   0, ...,  17,  22,  31]], dtype=uint8),\n",
       "  array([329,  55, 116, 116], dtype=int32)),\n",
       " (array([[112, 112, 133, ..., 119, 146, 161],\n",
       "         [117, 129, 149, ..., 119, 125, 152],\n",
       "         [124, 154, 158, ..., 142, 127, 150],\n",
       "         ...,\n",
       "         [233, 231, 228, ...,  51,  51,  51],\n",
       "         [233, 232, 228, ...,  51,  49,  48],\n",
       "         [233, 232, 228, ...,  51,  49,  47]], dtype=uint8),\n",
       "  array([215,  69, 343, 343], dtype=int32)),\n",
       " (array([[108, 110, 111, ..., 135, 203, 173],\n",
       "         [107, 109, 110, ..., 128, 124, 198],\n",
       "         [107, 109, 110, ..., 140,  98, 172],\n",
       "         ...,\n",
       "         [103, 101,  97, ...,  52,  66,  79],\n",
       "         [100,  99,  97, ...,  59,  61,  63],\n",
       "         [100, 100, 100, ...,  75,  60,  42]], dtype=uint8),\n",
       "  array([ 84,  74, 204, 204], dtype=int32)),\n",
       " (array([[199, 212, 212, ...,  58,  58,  58],\n",
       "         [200, 210, 208, ...,  57,  58,  58],\n",
       "         [200, 208, 205, ...,  56,  58,  58],\n",
       "         ...,\n",
       "         [ 52,  44,  40, ...,  62,  61,  61],\n",
       "         [ 56,  50,  47, ...,  61,  62,  62],\n",
       "         [ 62,  57,  53, ...,  61,  63,  63]], dtype=uint8),\n",
       "  array([249,  85, 169, 169], dtype=int32)),\n",
       " (array([[ 83,  87,  74, ...,  95,  77,  92],\n",
       "         [ 81,  67,  74, ..., 115,  87,  83],\n",
       "         [ 72,  60,  76, ..., 110,  96,  91],\n",
       "         ...,\n",
       "         [ 74,  71,  74, ..., 102,  97,  95],\n",
       "         [ 70,  65,  69, ..., 102,  98,  95],\n",
       "         [ 96,  74,  62, ..., 103,  98,  95]], dtype=uint8),\n",
       "  array([312, 112, 301, 301], dtype=int32))]"
      ]
     },
     "execution_count": 118,
     "metadata": {},
     "output_type": "execute_result"
    }
   ],
   "source": [
    "faces"
   ]
  },
  {
   "cell_type": "code",
   "execution_count": 117,
   "metadata": {},
   "outputs": [
    {
     "data": {
      "text/plain": [
       "array([1, 1, 1, 1, 1, 1, 1, 1, 1, 1, 2, 2, 2, 2, 2, 2, 2, 2, 2, 2])"
      ]
     },
     "execution_count": 117,
     "metadata": {},
     "output_type": "execute_result"
    }
   ],
   "source": [
    "np.array(labels)"
   ]
  },
  {
   "cell_type": "code",
   "execution_count": 96,
   "metadata": {},
   "outputs": [],
   "source": [
    "q = (faces, labels)"
   ]
  },
  {
   "cell_type": "code",
   "execution_count": 97,
   "metadata": {},
   "outputs": [
    {
     "data": {
      "text/plain": [
       "tuple"
      ]
     },
     "execution_count": 97,
     "metadata": {},
     "output_type": "execute_result"
    }
   ],
   "source": [
    "type(q)"
   ]
  },
  {
   "cell_type": "code",
   "execution_count": 115,
   "metadata": {},
   "outputs": [
    {
     "ename": "TypeError",
     "evalue": "src is not a numerical tuple",
     "output_type": "error",
     "traceback": [
      "\u001b[1;31m---------------------------------------------------------------------------\u001b[0m",
      "\u001b[1;31mTypeError\u001b[0m                                 Traceback (most recent call last)",
      "\u001b[1;32m<ipython-input-115-129e64091561>\u001b[0m in \u001b[0;36m<module>\u001b[1;34m()\u001b[0m\n\u001b[1;32m----> 1\u001b[1;33m \u001b[0mface_recognizer\u001b[0m\u001b[1;33m.\u001b[0m\u001b[0mtrain\u001b[0m\u001b[1;33m(\u001b[0m\u001b[0mfaces\u001b[0m\u001b[1;33m,\u001b[0m\u001b[0mlabels\u001b[0m\u001b[1;33m)\u001b[0m\u001b[1;33m\u001b[0m\u001b[0m\n\u001b[0m",
      "\u001b[1;31mTypeError\u001b[0m: src is not a numerical tuple"
     ]
    }
   ],
   "source": [
    "face_recognizer.train(faces,labels)"
   ]
  },
  {
   "cell_type": "code",
   "execution_count": 7,
   "metadata": {},
   "outputs": [
    {
     "name": "stdout",
     "output_type": "stream",
     "text": [
      "3.1.0\n"
     ]
    }
   ],
   "source": [
    "print (cv2.__version__)"
   ]
  },
  {
   "cell_type": "code",
   "execution_count": 8,
   "metadata": {},
   "outputs": [
    {
     "data": {
      "text/plain": [
       "list"
      ]
     },
     "execution_count": 8,
     "metadata": {},
     "output_type": "execute_result"
    }
   ],
   "source": [
    "type(faces)"
   ]
  },
  {
   "cell_type": "code",
   "execution_count": null,
   "metadata": {},
   "outputs": [],
   "source": []
  }
 ],
 "metadata": {
  "kernelspec": {
   "display_name": "Python 3",
   "language": "python",
   "name": "python3"
  },
  "language_info": {
   "codemirror_mode": {
    "name": "ipython",
    "version": 3
   },
   "file_extension": ".py",
   "mimetype": "text/x-python",
   "name": "python",
   "nbconvert_exporter": "python",
   "pygments_lexer": "ipython3",
   "version": "3.5.5"
  }
 },
 "nbformat": 4,
 "nbformat_minor": 2
}
